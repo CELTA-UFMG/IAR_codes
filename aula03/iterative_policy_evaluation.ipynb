{
 "cells": [
  {
   "cell_type": "markdown",
   "id": "0d6a5de3",
   "metadata": {},
   "source": [
    "# Avaliação iterativa de política\n",
    "#### Prof. Armando Alves Neto - Introdução ao Aprendizado por Reforço - PPGEE/UFMG\n",
    "\n",
    "Dada uma política $\\pi(s)$, podemos avaliar sua função valor via um algoritmo de Programação Dinâmica."
   ]
  },
  {
   "cell_type": "markdown",
   "id": "af9e122d",
   "metadata": {},
   "source": [
    "Importando bibliotecas."
   ]
  },
  {
   "cell_type": "code",
   "execution_count": 1,
   "id": "bb0ac31e",
   "metadata": {},
   "outputs": [],
   "source": [
    "import numpy as np\n",
    "import class_gridworld_env as cge"
   ]
  },
  {
   "cell_type": "markdown",
   "id": "ea3f11a7",
   "metadata": {},
   "source": [
    "Definindo parâmetros principais do algoritmo."
   ]
  },
  {
   "cell_type": "code",
   "execution_count": 2,
   "id": "67140d76",
   "metadata": {},
   "outputs": [],
   "source": [
    "GAMMA = 1.0\n",
    "THETA = 1.0e-3"
   ]
  },
  {
   "cell_type": "markdown",
   "id": "4a4eb64e",
   "metadata": {},
   "source": [
    "Criando a classe principal.\n",
    "\n",
    "Aqui a probabilidade da escolha de uma ação $a$ dado um estado $s$, $\\pi(a|s)$, é uniforme (igual para todas as ações)."
   ]
  },
  {
   "cell_type": "code",
   "execution_count": 3,
   "id": "b8dfd0f0",
   "metadata": {},
   "outputs": [],
   "source": [
    "class IterativePolicyEvaluation:\n",
    "    ##########################################\n",
    "    def __init__(self):\n",
    "\n",
    "        # environment\n",
    "        self.env = cge.Gridworld_Env()\n",
    "        self.size = self.env.getSize()\n",
    "\n",
    "        # fator de desconto\n",
    "        self.gamma = GAMMA\n",
    "\n",
    "        # inicia o mundo\n",
    "        self.reset()\n",
    "\n",
    "    ##########################################\n",
    "    def reset(self):\n",
    "\n",
    "        # reseta ambiente\n",
    "        self.env.reset()\n",
    "\n",
    "        # value function \n",
    "        self.value = np.zeros((self.size, self.size))\n",
    "\n",
    "        # uniform random policy\n",
    "        nactions = len(self.env.actions)\n",
    "        self.pi = (1.0/nactions) * np.ones((*self.value.shape, nactions))\n",
    "\n",
    "        # quantos passos\n",
    "        self.steps = 0"
   ]
  },
  {
   "cell_type": "markdown",
   "id": "3c22174a",
   "metadata": {},
   "source": [
    "Equação de Bellman dado um estado $s$ e uma política $\\pi(s)$:\n",
    "\n",
    "$$\n",
    "\\begin{equation}\n",
    "    v_\\pi(s) = \\sum_{a~\\in \\mathcal{A}} \\pi(a|s) \\sum_{s' \\in \\mathcal{S}, ~r} p(s', r | s, a) \\big[ r + \\gamma v_\\pi(s') \\big]\n",
    "    \\end{equation}\n",
    "$$"
   ]
  },
  {
   "cell_type": "code",
   "execution_count": 4,
   "id": "519d53a9",
   "metadata": {},
   "outputs": [],
   "source": [
    "class IterativePolicyEvaluation(IterativePolicyEvaluation):\n",
    "    ##########################################\n",
    "    def bellmanEquation(self, s):\n",
    "        \n",
    "        v = 0.0\n",
    "        \n",
    "        # probabilidade de escolha das ações (uniforme)\n",
    "        pi = self.pi[s]\n",
    "        \n",
    "        # para todas as possiveis ações\n",
    "        for a, action in enumerate(self.env.actions):\n",
    "            \n",
    "            # aplica ação e recebe proximo estado e reforço\n",
    "            sl, r, _, _ = self.env.step(s, action)\n",
    "            \n",
    "            # incrementa valor\n",
    "            v += pi[a] * (r + self.gamma*self.value[sl])\n",
    "        \n",
    "        return v"
   ]
  },
  {
   "cell_type": "markdown",
   "id": "b15dfd89",
   "metadata": {},
   "source": [
    "Roda um episódio até o algoritmo convergir."
   ]
  },
  {
   "cell_type": "code",
   "execution_count": 5,
   "id": "2da7973d",
   "metadata": {},
   "outputs": [],
   "source": [
    "class IterativePolicyEvaluation(IterativePolicyEvaluation):\n",
    "    ##########################################\n",
    "    def runEpsisode(self, in_place=False):\n",
    "\n",
    "        while True:\n",
    "            Delta = 0.0\n",
    "\n",
    "            # synchronous oy asynchronous mode?\n",
    "            Vs  = self.value if in_place else np.empty_like(self.value)\n",
    "\n",
    "            # para todos os estados\n",
    "            for i in range(len(self.value)):\n",
    "                for j in range(len(self.value[i])):\n",
    "                    \n",
    "                    # estado\n",
    "                    s = (i, j)\n",
    "                    \n",
    "                    # apply bellman expectation equation to each state\n",
    "                    v = Vs[s]\n",
    "                    Vs[s] = self.bellmanEquation(s)\n",
    "                    \n",
    "                    # Computa o novo Delta\n",
    "                    Delta = np.max([Delta, np.abs(v - Vs[s])])\n",
    "\n",
    "            # atualiza valores\n",
    "            self.value = Vs\n",
    "            \n",
    "            # incrementa os passos\n",
    "            self.steps += 1\n",
    "\n",
    "            # convergiu?\n",
    "            if Delta < THETA: break\n",
    "\n",
    "        return self.value\n"
   ]
  },
  {
   "cell_type": "markdown",
   "id": "317a64df",
   "metadata": {},
   "source": [
    "Programa principal."
   ]
  },
  {
   "cell_type": "code",
   "execution_count": 6,
   "id": "d82e3010",
   "metadata": {
    "scrolled": true
   },
   "outputs": [
    {
     "name": "stdout",
     "output_type": "stream",
     "text": [
      "Convergiu em 140 passos!\n"
     ]
    },
    {
     "data": {
      "image/png": "[encoded data removed]",
      "text/plain": [
       "<Figure size 288x288 with 1 Axes>"
      ]
     },
     "metadata": {
      "needs_background": "light"
     },
     "output_type": "display_data"
    }
   ],
   "source": [
    "if __name__ == \"__main__\":\n",
    "\n",
    "    # cria a classe\n",
    "    pol_eval = IterativePolicyEvaluation()\n",
    "    \n",
    "    # tabela de valores obtida\n",
    "    value_table = pol_eval.runEpsisode()\n",
    "    print('Convergiu em %d passos!' % pol_eval.steps)\n",
    "\n",
    "    # renderiza Figure 4.1 (Sutton and Barto)\n",
    "    pol_eval.env.render(value=value_table)"
   ]
  }
 ],
 "metadata": {
  "kernelspec": {
   "display_name": "Python 3 (ipykernel)",
   "language": "python",
   "name": "python3"
  },
  "language_info": {
   "codemirror_mode": {
    "name": "ipython",
    "version": 3
   },
   "file_extension": ".py",
   "mimetype": "text/x-python",
   "name": "python",
   "nbconvert_exporter": "python",
   "pygments_lexer": "ipython3",
   "version": "3.8.10"
  }
 },
 "nbformat": 4,
 "nbformat_minor": 5
}
