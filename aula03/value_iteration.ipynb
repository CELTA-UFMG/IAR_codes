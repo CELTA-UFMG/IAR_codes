{
 "cells": [
  {
   "cell_type": "markdown",
   "id": "f31b8a04",
   "metadata": {},
   "source": [
    "# Iteração de valor\n",
    "#### Prof. Armando Alves Neto - Introdução ao Aprendizado por Reforço - PPGEE/UFMG\n",
    "\n",
    "Também é possível calcular a política $\\pi^*(s)$ diretamente da função valor $v(s)$. Chamamos isso de iteração de valor."
   ]
  },
  {
   "cell_type": "markdown",
   "id": "2bdc8186",
   "metadata": {},
   "source": [
    "Importando bibliotecas."
   ]
  },
  {
   "cell_type": "code",
   "execution_count": 1,
   "id": "16c87480",
   "metadata": {},
   "outputs": [],
   "source": [
    "import numpy as np\n",
    "import class_gridworld_env as cge"
   ]
  },
  {
   "cell_type": "markdown",
   "id": "75f40198",
   "metadata": {},
   "source": [
    "Definindo parâmetros principais do algoritmo."
   ]
  },
  {
   "cell_type": "code",
   "execution_count": 2,
   "id": "777256ca",
   "metadata": {},
   "outputs": [],
   "source": [
    "GAMMA = 0.9\n",
    "THETA = 1.0e-3"
   ]
  },
  {
   "cell_type": "markdown",
   "id": "f63a7303",
   "metadata": {},
   "source": [
    "Criando a classe principal.\n",
    "\n",
    "Agora temos uma política $a = \\pi(s)$, inicializada com valores aleatórios."
   ]
  },
  {
   "cell_type": "code",
   "execution_count": 3,
   "id": "b46e2559",
   "metadata": {},
   "outputs": [],
   "source": [
    "class ValueIteration:\n",
    "    def __init__(self):\n",
    "\n",
    "        # environment\n",
    "        self.env = cge.Gridworld_Env()\n",
    "        self.size = self.env.getSize()\n",
    "\n",
    "        # fator de desconto\n",
    "        self.gamma = GAMMA\n",
    "\n",
    "        # inicia o mundo\n",
    "        self.reset()\n",
    "\n",
    "    ##########################################\n",
    "    def reset(self):\n",
    "\n",
    "        # reseta ambiente\n",
    "        self.env.reset()\n",
    "\n",
    "        # value function \n",
    "        self.value = np.zeros((self.size, self.size))\n",
    "\n",
    "        # politica\n",
    "        nactions = len(self.env.actions)\n",
    "        self.pi = np.random.choice(nactions, (self.size, self.size))\n",
    "\n",
    "        # quantos passos\n",
    "        self.steps = 0"
   ]
  },
  {
   "cell_type": "markdown",
   "id": "8e2c53c6",
   "metadata": {},
   "source": [
    "Equação de Bellman dado um estado $s$:\n",
    "\n",
    "$$\n",
    "\\begin{equation}\n",
    "    v_\\pi(s) = \\max_a \\sum_{s' \\in \\mathcal{S}, ~r} p(s', r | s, a) \\big[ r + \\gamma v_\\pi(s') \\big]\n",
    "    \\end{equation}\n",
    "$$"
   ]
  },
  {
   "cell_type": "code",
   "execution_count": 4,
   "id": "c114a349",
   "metadata": {},
   "outputs": [],
   "source": [
    "class ValueIteration(ValueIteration):\n",
    "    ##########################################\n",
    "    # Bellman equation\n",
    "    def bellmanEquation(self, s):\n",
    "        vs = []\n",
    "        \n",
    "        # para todas as ações\n",
    "        for a, action in enumerate(self.env.actions):    \n",
    "            # interage com o ambiente\n",
    "            sl, r, _, _ = self.env.step(s, action)\n",
    "            \n",
    "            # armazena valor obtido\n",
    "            vs.append(r + self.gamma*self.value[sl])\n",
    "            \n",
    "        # retorna o valor maximo\n",
    "        return np.max(vs)"
   ]
  },
  {
   "cell_type": "markdown",
   "id": "9507c950",
   "metadata": {},
   "source": [
    "Etapa de iteração do valor e cálculo da política determinística $\\pi \\approx \\pi_*$."
   ]
  },
  {
   "cell_type": "code",
   "execution_count": 5,
   "id": "100792ca",
   "metadata": {},
   "outputs": [],
   "source": [
    "class ValueIteration(ValueIteration):\n",
    "    ##########################################\n",
    "    # Value iteration\n",
    "    def runEpsisode(self, in_place=False):\n",
    "\n",
    "        ######################################\n",
    "        # Iteracao de valor\n",
    "        while True:\n",
    "            Delta = 0.0\n",
    "\n",
    "            # synchronous oy asynchronous mode?\n",
    "            Vs  = self.value if in_place else np.empty_like(self.value)\n",
    "\n",
    "            # para todos os estados\n",
    "            for i in range(len(self.value)):\n",
    "                for j in range(len(self.value[i])):\n",
    "\n",
    "                    # estado\n",
    "                    s = (i,j)\n",
    "\n",
    "                    # apply bellman expectation equation to each state\n",
    "                    v = Vs[s]\n",
    "                    Vs[s] = self.bellmanEquation(s)\n",
    "\n",
    "                    Delta = np.max([Delta, np.abs(v - Vs[s])])\n",
    "\n",
    "            # atualiza valores\n",
    "            self.value = Vs\n",
    "\n",
    "            self.steps += 1\n",
    "\n",
    "            # convergiu?\n",
    "            if Delta < THETA: break\n",
    "\n",
    "\n",
    "        ######################################\n",
    "        # retorna politica deterministica\n",
    "        for i in range(len(self.value)):\n",
    "            for j in range(len(self.value[i])):\n",
    "                # estado\n",
    "                s = (i,j)\n",
    "\n",
    "                vs = []\n",
    "                # verifica qual ação tem valor máximo\n",
    "                for a, action in enumerate(self.env.actions):\n",
    "                    sl, r, _, _ = self.env.step(s, action)\n",
    "                    vs.append(r + self.gamma*self.value[sl])\n",
    "                \n",
    "                # melhor ação\n",
    "                self.pi[s] = np.argmax(vs)\n",
    "\n",
    "        return self.value, self.pi"
   ]
  },
  {
   "cell_type": "markdown",
   "id": "d5cc3efc",
   "metadata": {},
   "source": [
    "Programa principal."
   ]
  },
  {
   "cell_type": "code",
   "execution_count": 6,
   "id": "5a55e5f9",
   "metadata": {},
   "outputs": [
    {
     "name": "stdout",
     "output_type": "stream",
     "text": [
      "Convergiu em 9 passos!\n"
     ]
    },
    {
     "data": {
      "image/png": "[encoded data removed]",
      "text/plain": [
       "<Figure size 576x576 with 1 Axes>"
      ]
     },
     "metadata": {
      "needs_background": "light"
     },
     "output_type": "display_data"
    },
    {
     "data": {
      "image/png": "[encoded data removed]",
      "text/plain": [
       "<Figure size 576x576 with 1 Axes>"
      ]
     },
     "metadata": {
      "needs_background": "light"
     },
     "output_type": "display_data"
    }
   ],
   "source": [
    "if __name__ == \"__main__\":\n",
    "\n",
    "    val_ite = ValueIteration()\n",
    "\n",
    "    value_table, pi_best = val_ite.runEpsisode()\n",
    "    print('Convergiu em %d passos!' % val_ite.steps)\n",
    "    \n",
    "    '''# salva a melhor politica\n",
    "    policy = [p for p in pi_best]\n",
    "    np.savez('policy.npz', policy=policy)'''\n",
    "\n",
    "    # renderiza Figure 4.1 (Sutton and Barto)\n",
    "    val_ite.env.render(value=value_table, pi=pi_best)"
   ]
  }
 ],
 "metadata": {
  "kernelspec": {
   "display_name": "Python 3 (ipykernel)",
   "language": "python",
   "name": "python3"
  },
  "language_info": {
   "codemirror_mode": {
    "name": "ipython",
    "version": 3
   },
   "file_extension": ".py",
   "mimetype": "text/x-python",
   "name": "python",
   "nbconvert_exporter": "python",
   "pygments_lexer": "ipython3",
   "version": "3.8.10"
  }
 },
 "nbformat": 4,
 "nbformat_minor": 5
}
