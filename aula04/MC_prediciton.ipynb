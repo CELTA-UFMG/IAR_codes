{
 "cells": [
  {
   "cell_type": "markdown",
   "id": "0d6a5de3",
   "metadata": {},
   "source": [
    "# Avaliação de Monte Carlo\n",
    "#### Prof. Armando Alves Neto - Introdução ao Aprendizado por Reforço - PPGEE/UFMG\n",
    "\n",
    "Dada uma política $\\pi(s)$, podemos avaliar sua função valor via um algoritmo de Monte Carlos. A duas opções: (i) *first-visit* e (ii) *every-visit*."
   ]
  },
  {
   "cell_type": "markdown",
   "id": "af9e122d",
   "metadata": {},
   "source": [
    "Importando bibliotecas."
   ]
  },
  {
   "cell_type": "code",
   "execution_count": 1,
   "id": "bb0ac31e",
   "metadata": {},
   "outputs": [],
   "source": [
    "import numpy as np\n",
    "import class_gridworld_env as cge"
   ]
  },
  {
   "cell_type": "markdown",
   "id": "ea3f11a7",
   "metadata": {},
   "source": [
    "Definindo parâmetros principais do algoritmo."
   ]
  },
  {
   "cell_type": "code",
   "execution_count": 2,
   "id": "67140d76",
   "metadata": {},
   "outputs": [],
   "source": [
    "GAMMA = 0.99"
   ]
  },
  {
   "cell_type": "markdown",
   "id": "2a9348e4",
   "metadata": {},
   "source": [
    "Criando uma classe para gerenciar as listas de *retornos(s)* para todos os estados."
   ]
  },
  {
   "cell_type": "code",
   "execution_count": 3,
   "id": "5593a18d",
   "metadata": {},
   "outputs": [],
   "source": [
    "class Returns:\n",
    "    ##########################################\n",
    "    def __init__(self):\n",
    "        self.r = []\n",
    "    ##########################################\n",
    "    def append(self, G):\n",
    "        self.r.append(G) \n",
    "    ##########################################\n",
    "    # média corrente dos retornos(s)\n",
    "    def getAverage(self):\n",
    "        if not self.r:\n",
    "            return 0.0\n",
    "        else:\n",
    "            return np.mean(self.r)"
   ]
  },
  {
   "cell_type": "markdown",
   "id": "bdf91b3a",
   "metadata": {},
   "source": [
    "Agora criando a classe ```MCPrediction```. Aqui utilizamos uma política $\\pi(s)$ gerada pela iteração de valor da aula anterior."
   ]
  },
  {
   "cell_type": "code",
   "execution_count": 4,
   "id": "b8dfd0f0",
   "metadata": {},
   "outputs": [],
   "source": [
    "class MCPrediction:\n",
    "    ##########################################\n",
    "    def __init__(self, parameters):\n",
    "\n",
    "        # environment\n",
    "        self.env = cge.Gridworld_Env()\n",
    "        self.size = self.env.getSize()\n",
    "\n",
    "        # fator de desconto\n",
    "        self.gamma = GAMMA\n",
    "\n",
    "        # inicia o mundo\n",
    "        self.reset()\n",
    "        \n",
    "        # eh first-visit?\n",
    "        self.first_visit = parameters['first-visit']\n",
    "\n",
    "    ##########################################\n",
    "    def reset(self):\n",
    "\n",
    "        # reseta ambiente\n",
    "        self.env.reset()\n",
    "\n",
    "        # value function \n",
    "        self.value = np.zeros((self.size, self.size))\n",
    "        \n",
    "        # carrega politica gerada pela iteracao de valor da aula anterior\n",
    "        policy = np.load('policy.npz', allow_pickle=True)\n",
    "        self.pi = policy['policy']\n",
    "        \n",
    "        # retornos(s)\n",
    "        self.returns = [ [ Returns() for i in range(self.size) ] for j in range(self.size) ]"
   ]
  },
  {
   "cell_type": "markdown",
   "id": "b15dfd89",
   "metadata": {},
   "source": [
    "Usando $\\pi(s)$ para gerar um episódio: $S_0$, $A_0$, $R_1$, $\\ldots$, $S_{T-1}$, $A_{T-1}$, $R_T$."
   ]
  },
  {
   "cell_type": "code",
   "execution_count": 5,
   "id": "9ff77764",
   "metadata": {},
   "outputs": [],
   "source": [
    "class MCPrediction(MCPrediction):\n",
    "    ##########################################\n",
    "    # simula um episodio até o fim seguindo a politica corrente\n",
    "    def oneEpisode(self, max_iter=1000):\n",
    "\n",
    "        # inicia o ambiente (começa aleatoriamente)\n",
    "        S = self.env.reset()\n",
    "\n",
    "        # listas da trajetoria S_{T-1}, A_{T-1}, R_{T}, ....\n",
    "        rewards, states = ([] for i in range(2))\n",
    "\n",
    "        for _ in range(max_iter):\n",
    "            \n",
    "            # politica inicial\n",
    "            A = self.env.actions[self.pi[S]]\n",
    "\n",
    "            # passo de interacao com o ambiente\n",
    "            [Sl, R, done, _] = self.env.step(S, A)\n",
    "\n",
    "            # Salva S_{T-1}, R_{T}, ....\n",
    "            states.append(Sl)\n",
    "            rewards.append(R)\n",
    "\n",
    "            # chegou a um estado terminal?\n",
    "            if done: break\n",
    "            \n",
    "            # proximo estado\n",
    "            S = Sl\n",
    "\n",
    "        return [states, rewards]"
   ]
  },
  {
   "cell_type": "markdown",
   "id": "4fe2964c",
   "metadata": {},
   "source": [
    "Computa a função valor $v(S_t) \\gets \\textrm{média}(Retornos(S_t))$"
   ]
  },
  {
   "cell_type": "code",
   "execution_count": 6,
   "id": "6cf38043",
   "metadata": {},
   "outputs": [],
   "source": [
    "class MCPrediction(MCPrediction):\n",
    "    ##########################################\n",
    "    def runEpsisode(self):\n",
    "\n",
    "        # gera um episodio seguindo a politica corrente\n",
    "        [states, rewards] = self.oneEpisode()\n",
    "\n",
    "        # estados alcancados\n",
    "        updated_states = set()\n",
    "\n",
    "        G = 0.0\n",
    "        # processa experiencia\n",
    "        for s, r in zip(states, rewards):\n",
    "\n",
    "            # first-visit?\n",
    "            if self.first_visit:\n",
    "                if s in updated_states:\n",
    "                    continue\n",
    "                updated_states.add(s)\n",
    "\n",
    "            # atualiza V(s)\n",
    "            G = self.gamma*G + r\n",
    "            self.returns[s[0]][s[1]].append(G)\n",
    "            self.value[s] = self.returns[s[0]][s[1]].getAverage()\n",
    "\n",
    "        return self.value"
   ]
  },
  {
   "cell_type": "markdown",
   "id": "317a64df",
   "metadata": {},
   "source": [
    "Programa principal:\n",
    "- episodes: número de episódios\n",
    "- first-visit: True or False (False equivale a *every-visit*)"
   ]
  },
  {
   "cell_type": "code",
   "execution_count": 7,
   "id": "d82e3010",
   "metadata": {
    "scrolled": true
   },
   "outputs": [
    {
     "data": {
      "image/png": "[encoded data removed]",
      "text/plain": [
       "<Figure size 576x576 with 1 Axes>"
      ]
     },
     "metadata": {
      "needs_background": "light"
     },
     "output_type": "display_data"
    },
    {
     "data": {
      "image/png": "[encoded data removed]",
      "text/plain": [
       "<Figure size 576x576 with 1 Axes>"
      ]
     },
     "metadata": {
      "needs_background": "light"
     },
     "output_type": "display_data"
    }
   ],
   "source": [
    "if __name__ == \"__main__\":\n",
    "    \n",
    "    # parametros\n",
    "    parameters = {'episodes'    : 2000,\n",
    "                  'first-visit' : False}\n",
    "\n",
    "    # cria a classe\n",
    "    mc_pred = MCPrediction(parameters)\n",
    "    \n",
    "    # tabela de valores obtida\n",
    "    for _ in range(parameters['episodes']):\n",
    "        value_table = mc_pred.runEpsisode()\n",
    "\n",
    "    # renderiza\n",
    "    mc_pred.env.render(value=value_table, pi=mc_pred.pi)"
   ]
  }
 ],
 "metadata": {
  "kernelspec": {
   "display_name": "Python 3 (ipykernel)",
   "language": "python",
   "name": "python3"
  },
  "language_info": {
   "codemirror_mode": {
    "name": "ipython",
    "version": 3
   },
   "file_extension": ".py",
   "mimetype": "text/x-python",
   "name": "python",
   "nbconvert_exporter": "python",
   "pygments_lexer": "ipython3",
   "version": "3.8.10"
  }
 },
 "nbformat": 4,
 "nbformat_minor": 5
}
