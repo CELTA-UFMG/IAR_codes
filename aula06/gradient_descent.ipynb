{
 "cells": [
  {
   "cell_type": "markdown",
   "id": "ab1ae932",
   "metadata": {},
   "source": [
    "# Métodos de solução aproximada\n",
    "\n",
    "#### Prof. Armando Alves Neto - Introdução ao Aprendizado por Reforço - PPGEE/UFMG\n",
    "\n",
    "Um pequeno exemplo de método de descida de gradiente."
   ]
  },
  {
   "cell_type": "markdown",
   "id": "5c0bbfa7",
   "metadata": {},
   "source": [
    "Importando bibliotecas."
   ]
  },
  {
   "cell_type": "code",
   "execution_count": 1,
   "id": "2d4fc865",
   "metadata": {},
   "outputs": [],
   "source": [
    "import numpy as np\n",
    "import matplotlib.pyplot as plt\n",
    "import seaborn as sns\n",
    "sns.set()\n",
    "from IPython.display import clear_output"
   ]
  },
  {
   "cell_type": "markdown",
   "id": "6b7df3b7",
   "metadata": {},
   "source": [
    "Função de calculo da descida de gradiente."
   ]
  },
  {
   "cell_type": "code",
   "execution_count": 2,
   "id": "f055e17e",
   "metadata": {},
   "outputs": [],
   "source": [
    "##########################################\t\n",
    "def gradient_descent(gradient, start, learn_rate, n_iter=100, tolerance=1e-5):\n",
    "\n",
    "    # ponto inicial\n",
    "    w = start\n",
    "    ws = [w]\n",
    "\n",
    "    for _ in range(n_iter):\n",
    "        # direcao descendente do gradiente\n",
    "        diff = -learn_rate * gradient(w)\n",
    "\n",
    "        # convergiu\n",
    "        if np.all(np.abs(diff) <= tolerance): break\n",
    "\n",
    "        # update\n",
    "        w += diff\n",
    "        ws.append(w)\n",
    "\n",
    "    return np.array(ws)"
   ]
  },
  {
   "cell_type": "markdown",
   "id": "b7c0f318",
   "metadata": {},
   "source": [
    "Programa principal:\n",
    "- Função 1\n",
    "    - $f_1(x) = x^2 + 2$\n",
    "    - $\\nabla f_1(x) = 2x$\n",
    "- Função 2\n",
    "    - $f_2(x) = x^4 -5x^2 -3x$\n",
    "    - $\\nabla f_2(x) = 4x^3 - 10x - 3$"
   ]
  },
  {
   "cell_type": "code",
   "execution_count": 3,
   "id": "6d24ca89",
   "metadata": {},
   "outputs": [
    {
     "data": {
      "image/png": "[encoded data removed]",
      "text/plain": [
       "<Figure size 432x288 with 1 Axes>"
      ]
     },
     "metadata": {},
     "output_type": "display_data"
    },
    {
     "name": "stdout",
     "output_type": "stream",
     "text": [
      "Terminou!\n"
     ]
    }
   ],
   "source": [
    "# função 1\n",
    "x = np.linspace(-10.0, 10.0, 1000)\n",
    "f = lambda x: x**2.0 + 2.0\n",
    "gradient = lambda x: 2.0*x\n",
    "# ponto de inicio e learning rate\n",
    "start = 9.5\n",
    "lr = 0.2\n",
    "\n",
    "'''# função 2\n",
    "x = np.linspace(-3.0, 3.0, 100)\n",
    "f = lambda x: x**4.0 - 5.0*x**2.0 - 3*x\n",
    "gradient = lambda x: 4.0*x**3.0 - 10.0*x - 3.0\n",
    "# ponto de inicio e learning rate\n",
    "start = 0.0\n",
    "lr = 0.02'''\n",
    "\n",
    "# descendo o gradiente\n",
    "ws = gradient_descent(gradient, start=start, learn_rate=lr)\n",
    "\n",
    "# plot\n",
    "plt.ion()\n",
    "plt.figure()\n",
    "for i,_ in enumerate(ws):\n",
    "    clear_output(wait=True)\n",
    "    plt.clf()\n",
    "    plt.plot(x, f(x), 'k' )\n",
    "    plt.plot(ws[:i], f(ws[:i]), 'ro-' , markersize=10)\n",
    "    plt.xlabel('x')\n",
    "    plt.ylabel('f(x)')\n",
    "    plt.grid(True)\n",
    "    plt.show()\n",
    "    plt.pause(1.0)\n",
    "\n",
    "print('Terminou!')\n",
    "#plt.ioff()"
   ]
  }
 ],
 "metadata": {
  "kernelspec": {
   "display_name": "Python 3 (ipykernel)",
   "language": "python",
   "name": "python3"
  },
  "language_info": {
   "codemirror_mode": {
    "name": "ipython",
    "version": 3
   },
   "file_extension": ".py",
   "mimetype": "text/x-python",
   "name": "python",
   "nbconvert_exporter": "python",
   "pygments_lexer": "ipython3",
   "version": "3.8.10"
  }
 },
 "nbformat": 4,
 "nbformat_minor": 5
}
